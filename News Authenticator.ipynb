{
  "cells": [
    {
      "cell_type": "markdown",
      "metadata": {
        "id": "view-in-github",
        "colab_type": "text"
      },
      "source": [
        "<a href=\"https://colab.research.google.com/github/kristacourtaway/News-Authenticator/blob/main/News%20Authenticator.ipynb\" target=\"_parent\"><img src=\"https://colab.research.google.com/assets/colab-badge.svg\" alt=\"Open In Colab\"/></a>"
      ]
    },
    {
      "cell_type": "markdown",
      "id": "1279eeee",
      "metadata": {
        "id": "1279eeee"
      },
      "source": [
        "## Importing Libraries and Data"
      ]
    },
    {
      "cell_type": "code",
      "execution_count": 30,
      "id": "b6663340",
      "metadata": {
        "id": "b6663340"
      },
      "outputs": [],
      "source": [
        "import pandas as pd\n",
        "import seaborn as sns\n",
        "import numpy as np\n",
        "from sklearn.model_selection import train_test_split\n",
        "from sklearn.feature_extraction.text import CountVectorizer\n",
        "from sklearn.feature_extraction.text import TfidfVectorizer\n",
        "from sklearn.naive_bayes import MultinomialNB\n",
        "from sklearn.pipeline import Pipeline\n",
        "from sklearn.metrics import confusion_matrix, accuracy_score\n",
        "from sklearn.linear_model import PassiveAggressiveClassifier\n",
        "import pickle\n",
        "from wordcloud import WordCloud\n",
        "import matplotlib.pyplot as plt"
      ]
    },
    {
      "cell_type": "code",
      "execution_count": 9,
      "id": "71636c3d",
      "metadata": {
        "id": "71636c3d"
      },
      "outputs": [],
      "source": [
        "df = pd.read_csv('/content/Fake_News_Detection.csv')"
      ]
    },
    {
      "cell_type": "code",
      "execution_count": 10,
      "id": "6af97a30",
      "metadata": {
        "colab": {
          "base_uri": "https://localhost:8080/",
          "height": 206
        },
        "id": "6af97a30",
        "outputId": "2f3db6c1-78db-4584-b5dc-5a8e1bbf0236"
      },
      "outputs": [
        {
          "output_type": "execute_result",
          "data": {
            "text/plain": [
              "   Unnamed: 0                                              title  \\\n",
              "0        8476                       You Can Smell Hillary’s Fear   \n",
              "1       10294  Watch The Exact Moment Paul Ryan Committed Pol...   \n",
              "2        3608        Kerry to go to Paris in gesture of sympathy   \n",
              "3       10142  Bernie supporters on Twitter erupt in anger ag...   \n",
              "4         875   The Battle of New York: Why This Primary Matters   \n",
              "\n",
              "                                                text label  \n",
              "0  Daniel Greenfield, a Shillman Journalism Fello...  FAKE  \n",
              "1  Google Pinterest Digg Linkedin Reddit Stumbleu...  FAKE  \n",
              "2  U.S. Secretary of State John F. Kerry said Mon...  REAL  \n",
              "3  — Kaydee King (@KaydeeKing) November 9, 2016 T...  FAKE  \n",
              "4  It's primary day in New York and front-runners...  REAL  "
            ],
            "text/html": [
              "\n",
              "  <div id=\"df-3d5a30b5-7d5b-488a-8545-f4ece8cce2cc\" class=\"colab-df-container\">\n",
              "    <div>\n",
              "<style scoped>\n",
              "    .dataframe tbody tr th:only-of-type {\n",
              "        vertical-align: middle;\n",
              "    }\n",
              "\n",
              "    .dataframe tbody tr th {\n",
              "        vertical-align: top;\n",
              "    }\n",
              "\n",
              "    .dataframe thead th {\n",
              "        text-align: right;\n",
              "    }\n",
              "</style>\n",
              "<table border=\"1\" class=\"dataframe\">\n",
              "  <thead>\n",
              "    <tr style=\"text-align: right;\">\n",
              "      <th></th>\n",
              "      <th>Unnamed: 0</th>\n",
              "      <th>title</th>\n",
              "      <th>text</th>\n",
              "      <th>label</th>\n",
              "    </tr>\n",
              "  </thead>\n",
              "  <tbody>\n",
              "    <tr>\n",
              "      <th>0</th>\n",
              "      <td>8476</td>\n",
              "      <td>You Can Smell Hillary’s Fear</td>\n",
              "      <td>Daniel Greenfield, a Shillman Journalism Fello...</td>\n",
              "      <td>FAKE</td>\n",
              "    </tr>\n",
              "    <tr>\n",
              "      <th>1</th>\n",
              "      <td>10294</td>\n",
              "      <td>Watch The Exact Moment Paul Ryan Committed Pol...</td>\n",
              "      <td>Google Pinterest Digg Linkedin Reddit Stumbleu...</td>\n",
              "      <td>FAKE</td>\n",
              "    </tr>\n",
              "    <tr>\n",
              "      <th>2</th>\n",
              "      <td>3608</td>\n",
              "      <td>Kerry to go to Paris in gesture of sympathy</td>\n",
              "      <td>U.S. Secretary of State John F. Kerry said Mon...</td>\n",
              "      <td>REAL</td>\n",
              "    </tr>\n",
              "    <tr>\n",
              "      <th>3</th>\n",
              "      <td>10142</td>\n",
              "      <td>Bernie supporters on Twitter erupt in anger ag...</td>\n",
              "      <td>— Kaydee King (@KaydeeKing) November 9, 2016 T...</td>\n",
              "      <td>FAKE</td>\n",
              "    </tr>\n",
              "    <tr>\n",
              "      <th>4</th>\n",
              "      <td>875</td>\n",
              "      <td>The Battle of New York: Why This Primary Matters</td>\n",
              "      <td>It's primary day in New York and front-runners...</td>\n",
              "      <td>REAL</td>\n",
              "    </tr>\n",
              "  </tbody>\n",
              "</table>\n",
              "</div>\n",
              "    <div class=\"colab-df-buttons\">\n",
              "\n",
              "  <div class=\"colab-df-container\">\n",
              "    <button class=\"colab-df-convert\" onclick=\"convertToInteractive('df-3d5a30b5-7d5b-488a-8545-f4ece8cce2cc')\"\n",
              "            title=\"Convert this dataframe to an interactive table.\"\n",
              "            style=\"display:none;\">\n",
              "\n",
              "  <svg xmlns=\"http://www.w3.org/2000/svg\" height=\"24px\" viewBox=\"0 -960 960 960\">\n",
              "    <path d=\"M120-120v-720h720v720H120Zm60-500h600v-160H180v160Zm220 220h160v-160H400v160Zm0 220h160v-160H400v160ZM180-400h160v-160H180v160Zm440 0h160v-160H620v160ZM180-180h160v-160H180v160Zm440 0h160v-160H620v160Z\"/>\n",
              "  </svg>\n",
              "    </button>\n",
              "\n",
              "  <style>\n",
              "    .colab-df-container {\n",
              "      display:flex;\n",
              "      gap: 12px;\n",
              "    }\n",
              "\n",
              "    .colab-df-convert {\n",
              "      background-color: #E8F0FE;\n",
              "      border: none;\n",
              "      border-radius: 50%;\n",
              "      cursor: pointer;\n",
              "      display: none;\n",
              "      fill: #1967D2;\n",
              "      height: 32px;\n",
              "      padding: 0 0 0 0;\n",
              "      width: 32px;\n",
              "    }\n",
              "\n",
              "    .colab-df-convert:hover {\n",
              "      background-color: #E2EBFA;\n",
              "      box-shadow: 0px 1px 2px rgba(60, 64, 67, 0.3), 0px 1px 3px 1px rgba(60, 64, 67, 0.15);\n",
              "      fill: #174EA6;\n",
              "    }\n",
              "\n",
              "    .colab-df-buttons div {\n",
              "      margin-bottom: 4px;\n",
              "    }\n",
              "\n",
              "    [theme=dark] .colab-df-convert {\n",
              "      background-color: #3B4455;\n",
              "      fill: #D2E3FC;\n",
              "    }\n",
              "\n",
              "    [theme=dark] .colab-df-convert:hover {\n",
              "      background-color: #434B5C;\n",
              "      box-shadow: 0px 1px 3px 1px rgba(0, 0, 0, 0.15);\n",
              "      filter: drop-shadow(0px 1px 2px rgba(0, 0, 0, 0.3));\n",
              "      fill: #FFFFFF;\n",
              "    }\n",
              "  </style>\n",
              "\n",
              "    <script>\n",
              "      const buttonEl =\n",
              "        document.querySelector('#df-3d5a30b5-7d5b-488a-8545-f4ece8cce2cc button.colab-df-convert');\n",
              "      buttonEl.style.display =\n",
              "        google.colab.kernel.accessAllowed ? 'block' : 'none';\n",
              "\n",
              "      async function convertToInteractive(key) {\n",
              "        const element = document.querySelector('#df-3d5a30b5-7d5b-488a-8545-f4ece8cce2cc');\n",
              "        const dataTable =\n",
              "          await google.colab.kernel.invokeFunction('convertToInteractive',\n",
              "                                                    [key], {});\n",
              "        if (!dataTable) return;\n",
              "\n",
              "        const docLinkHtml = 'Like what you see? Visit the ' +\n",
              "          '<a target=\"_blank\" href=https://colab.research.google.com/notebooks/data_table.ipynb>data table notebook</a>'\n",
              "          + ' to learn more about interactive tables.';\n",
              "        element.innerHTML = '';\n",
              "        dataTable['output_type'] = 'display_data';\n",
              "        await google.colab.output.renderOutput(dataTable, element);\n",
              "        const docLink = document.createElement('div');\n",
              "        docLink.innerHTML = docLinkHtml;\n",
              "        element.appendChild(docLink);\n",
              "      }\n",
              "    </script>\n",
              "  </div>\n",
              "\n",
              "\n",
              "<div id=\"df-8e9d09da-e04b-4791-9f99-a60e2c6a436b\">\n",
              "  <button class=\"colab-df-quickchart\" onclick=\"quickchart('df-8e9d09da-e04b-4791-9f99-a60e2c6a436b')\"\n",
              "            title=\"Suggest charts.\"\n",
              "            style=\"display:none;\">\n",
              "\n",
              "<svg xmlns=\"http://www.w3.org/2000/svg\" height=\"24px\"viewBox=\"0 0 24 24\"\n",
              "     width=\"24px\">\n",
              "    <g>\n",
              "        <path d=\"M19 3H5c-1.1 0-2 .9-2 2v14c0 1.1.9 2 2 2h14c1.1 0 2-.9 2-2V5c0-1.1-.9-2-2-2zM9 17H7v-7h2v7zm4 0h-2V7h2v10zm4 0h-2v-4h2v4z\"/>\n",
              "    </g>\n",
              "</svg>\n",
              "  </button>\n",
              "\n",
              "<style>\n",
              "  .colab-df-quickchart {\n",
              "    background-color: #E8F0FE;\n",
              "    border: none;\n",
              "    border-radius: 50%;\n",
              "    cursor: pointer;\n",
              "    display: none;\n",
              "    fill: #1967D2;\n",
              "    height: 32px;\n",
              "    padding: 0 0 0 0;\n",
              "    width: 32px;\n",
              "  }\n",
              "\n",
              "  .colab-df-quickchart:hover {\n",
              "    background-color: #E2EBFA;\n",
              "    box-shadow: 0px 1px 2px rgba(60, 64, 67, 0.3), 0px 1px 3px 1px rgba(60, 64, 67, 0.15);\n",
              "    fill: #174EA6;\n",
              "  }\n",
              "\n",
              "  [theme=dark] .colab-df-quickchart {\n",
              "    background-color: #3B4455;\n",
              "    fill: #D2E3FC;\n",
              "  }\n",
              "\n",
              "  [theme=dark] .colab-df-quickchart:hover {\n",
              "    background-color: #434B5C;\n",
              "    box-shadow: 0px 1px 3px 1px rgba(0, 0, 0, 0.15);\n",
              "    filter: drop-shadow(0px 1px 2px rgba(0, 0, 0, 0.3));\n",
              "    fill: #FFFFFF;\n",
              "  }\n",
              "</style>\n",
              "\n",
              "  <script>\n",
              "    async function quickchart(key) {\n",
              "      const charts = await google.colab.kernel.invokeFunction(\n",
              "          'suggestCharts', [key], {});\n",
              "    }\n",
              "    (() => {\n",
              "      let quickchartButtonEl =\n",
              "        document.querySelector('#df-8e9d09da-e04b-4791-9f99-a60e2c6a436b button');\n",
              "      quickchartButtonEl.style.display =\n",
              "        google.colab.kernel.accessAllowed ? 'block' : 'none';\n",
              "    })();\n",
              "  </script>\n",
              "</div>\n",
              "\n",
              "    </div>\n",
              "  </div>\n"
            ]
          },
          "metadata": {},
          "execution_count": 10
        }
      ],
      "source": [
        "df.head()"
      ]
    },
    {
      "cell_type": "markdown",
      "id": "7e5197cf",
      "metadata": {
        "id": "7e5197cf"
      },
      "source": [
        "## Label Distribution"
      ]
    },
    {
      "cell_type": "code",
      "execution_count": 11,
      "id": "6c7b53d0",
      "metadata": {
        "colab": {
          "base_uri": "https://localhost:8080/"
        },
        "id": "6c7b53d0",
        "outputId": "64034a28-d4e4-4c35-e7ae-e9dc91f1328b"
      },
      "outputs": [
        {
          "output_type": "execute_result",
          "data": {
            "text/plain": [
              "REAL    3171\n",
              "FAKE    3164\n",
              "Name: label, dtype: int64"
            ]
          },
          "metadata": {},
          "execution_count": 11
        }
      ],
      "source": [
        "df['label'].value_counts()"
      ]
    },
    {
      "cell_type": "code",
      "execution_count": 12,
      "id": "4af0a1bb",
      "metadata": {
        "id": "4af0a1bb"
      },
      "outputs": [],
      "source": [
        "def create_distribution(datafile):\n",
        "    return sns.countplot(x='label', data = datafile)"
      ]
    },
    {
      "cell_type": "code",
      "execution_count": 13,
      "id": "9e21abff",
      "metadata": {
        "colab": {
          "base_uri": "https://localhost:8080/",
          "height": 466
        },
        "id": "9e21abff",
        "outputId": "7f8c7a13-e9cc-4524-df6d-e9f652e8a5ce"
      },
      "outputs": [
        {
          "output_type": "execute_result",
          "data": {
            "text/plain": [
              "<Axes: xlabel='label', ylabel='count'>"
            ]
          },
          "metadata": {},
          "execution_count": 13
        },
        {
          "output_type": "display_data",
          "data": {
            "text/plain": [
              "<Figure size 640x480 with 1 Axes>"
            ],
            "image/png": "[encoded data removed]"
          },
          "metadata": {}
        }
      ],
      "source": [
        "create_distribution(df)"
      ]
    },
    {
      "cell_type": "markdown",
      "id": "08be0e67",
      "metadata": {
        "id": "08be0e67"
      },
      "source": [
        "## Data Integrity Check"
      ]
    },
    {
      "cell_type": "code",
      "execution_count": 14,
      "id": "a8f89051",
      "metadata": {
        "id": "a8f89051"
      },
      "outputs": [],
      "source": [
        "def data_integrity():\n",
        "    print('Checking Data Qualities')\n",
        "    df.isnull().sum()\n",
        "    df.info()\n",
        "    print('Check Finished')"
      ]
    },
    {
      "cell_type": "code",
      "execution_count": 15,
      "id": "e3afcb13",
      "metadata": {
        "scrolled": true,
        "colab": {
          "base_uri": "https://localhost:8080/"
        },
        "id": "e3afcb13",
        "outputId": "d12d1c95-11cd-450e-c90e-d57f26d36586"
      },
      "outputs": [
        {
          "output_type": "stream",
          "name": "stdout",
          "text": [
            "Checking Data Qualities\n",
            "<class 'pandas.core.frame.DataFrame'>\n",
            "RangeIndex: 6335 entries, 0 to 6334\n",
            "Data columns (total 4 columns):\n",
            " #   Column      Non-Null Count  Dtype \n",
            "---  ------      --------------  ----- \n",
            " 0   Unnamed: 0  6335 non-null   int64 \n",
            " 1   title       6335 non-null   object\n",
            " 2   text        6335 non-null   object\n",
            " 3   label       6335 non-null   object\n",
            "dtypes: int64(1), object(3)\n",
            "memory usage: 198.1+ KB\n",
            "Check Finished\n"
          ]
        }
      ],
      "source": [
        "data_integrity()"
      ]
    },
    {
      "cell_type": "markdown",
      "id": "a337ff29",
      "metadata": {
        "id": "a337ff29"
      },
      "source": [
        "## Train Test Split"
      ]
    },
    {
      "cell_type": "code",
      "execution_count": 16,
      "id": "3d3b18ac",
      "metadata": {
        "id": "3d3b18ac"
      },
      "outputs": [],
      "source": [
        "x = df['text']\n",
        "y = df['label']"
      ]
    },
    {
      "cell_type": "code",
      "execution_count": 17,
      "id": "64a2c672",
      "metadata": {
        "colab": {
          "base_uri": "https://localhost:8080/"
        },
        "id": "64a2c672",
        "outputId": "bd09150c-9d6d-4c30-b21b-c91f3130df34"
      },
      "outputs": [
        {
          "output_type": "execute_result",
          "data": {
            "text/plain": [
              "0    FAKE\n",
              "1    FAKE\n",
              "2    REAL\n",
              "3    FAKE\n",
              "4    REAL\n",
              "Name: label, dtype: object"
            ]
          },
          "metadata": {},
          "execution_count": 17
        }
      ],
      "source": [
        "y.head()"
      ]
    },
    {
      "cell_type": "code",
      "execution_count": 18,
      "id": "9e40c829",
      "metadata": {
        "id": "9e40c829"
      },
      "outputs": [],
      "source": [
        "x_train, x_test, y_train, y_test = train_test_split(x,y,test_size=0.33, random_state=42)"
      ]
    },
    {
      "cell_type": "markdown",
      "id": "1c4b48e2",
      "metadata": {
        "id": "1c4b48e2"
      },
      "source": [
        "## Apply NLP Techniques"
      ]
    },
    {
      "cell_type": "code",
      "execution_count": 19,
      "id": "fee22981",
      "metadata": {
        "colab": {
          "base_uri": "https://localhost:8080/"
        },
        "id": "fee22981",
        "outputId": "b850a119-5766-482f-8288-cd73dba7b595"
      },
      "outputs": [
        {
          "output_type": "execute_result",
          "data": {
            "text/plain": [
              "5593    The next president is most likely to face an i...\n",
              "6067    Following news of FBI Director James Comey’s d...\n",
              "3026    Interviews A protester throws a glass bottle c...\n",
              "4385    Will it be representative government or thugoc...\n",
              "120     It is increasingly apparent that the U.S. war ...\n",
              "Name: text, dtype: object"
            ]
          },
          "metadata": {},
          "execution_count": 19
        }
      ],
      "source": [
        "x_train.head()"
      ]
    },
    {
      "cell_type": "code",
      "execution_count": 20,
      "id": "92fb130c",
      "metadata": {
        "id": "92fb130c"
      },
      "outputs": [],
      "source": [
        "countVectorizer = CountVectorizer(stop_words='english')"
      ]
    },
    {
      "cell_type": "code",
      "execution_count": 21,
      "id": "84d97884",
      "metadata": {
        "id": "84d97884"
      },
      "outputs": [],
      "source": [
        "countTrain = countVectorizer.fit_transform(x_train)"
      ]
    },
    {
      "cell_type": "code",
      "execution_count": 22,
      "id": "dfa11224",
      "metadata": {
        "colab": {
          "base_uri": "https://localhost:8080/"
        },
        "id": "dfa11224",
        "outputId": "0187b4d7-1d29-4b1c-9f1d-09462d9e4267"
      },
      "outputs": [
        {
          "output_type": "execute_result",
          "data": {
            "text/plain": [
              "(4244, 56801)"
            ]
          },
          "metadata": {},
          "execution_count": 22
        }
      ],
      "source": [
        "countTrain.shape"
      ]
    },
    {
      "cell_type": "code",
      "execution_count": 23,
      "id": "ac6f279a",
      "metadata": {
        "colab": {
          "base_uri": "https://localhost:8080/"
        },
        "id": "ac6f279a",
        "outputId": "c4596d6c-4f02-414e-adaa-14ac24151c79"
      },
      "outputs": [
        {
          "output_type": "execute_result",
          "data": {
            "text/plain": [
              "(6335, 4)"
            ]
          },
          "metadata": {},
          "execution_count": 23
        }
      ],
      "source": [
        "df.shape"
      ]
    },
    {
      "cell_type": "code",
      "execution_count": 24,
      "id": "9956baa0",
      "metadata": {
        "colab": {
          "base_uri": "https://localhost:8080/"
        },
        "id": "9956baa0",
        "outputId": "a78f465b-4749-44cf-c851-bf9c613a74e4"
      },
      "outputs": [
        {
          "output_type": "execute_result",
          "data": {
            "text/plain": [
              "(4244,)"
            ]
          },
          "metadata": {},
          "execution_count": 24
        }
      ],
      "source": [
        "x_train.shape"
      ]
    },
    {
      "cell_type": "code",
      "execution_count": 25,
      "id": "9eab67bf",
      "metadata": {
        "colab": {
          "base_uri": "https://localhost:8080/"
        },
        "id": "9eab67bf",
        "outputId": "33574442-506f-428e-c55f-e4d49761a41d"
      },
      "outputs": [
        {
          "output_type": "execute_result",
          "data": {
            "text/plain": [
              "{'president': 39371,\n",
              " 'likely': 29886,\n",
              " 'face': 18756,\n",
              " 'international': 26482,\n",
              " 'crisis': 12723,\n",
              " 'shortly': 45820,\n",
              " 'taking': 49614,\n",
              " 'office': 35654,\n",
              " 'donald': 15846,\n",
              " 'trump': 51775,\n",
              " 'hillary': 23990,\n",
              " 'clinton': 10533,\n",
              " 'credibility': 12626,\n",
              " 'problem': 39599,\n",
              " 'foreign': 20249,\n",
              " 'affairs': 2625,\n",
              " 'defense': 13885,\n",
              " 'secretary': 44932,\n",
              " 'robert': 43222,\n",
              " 'gates': 21231,\n",
              " 'said': 43952,\n",
              " 'friday': 20679,\n",
              " 'senior': 45133,\n",
              " 'advocate': 2586,\n",
              " 'using': 53360,\n",
              " 'military': 32568,\n",
              " 'bring': 7873,\n",
              " 'ill': 25140,\n",
              " 'fated': 19085,\n",
              " 'regime': 41815,\n",
              " 'change': 9632,\n",
              " 'libya': 29780,\n",
              " 'failed': 18842,\n",
              " 'anticipate': 3825,\n",
              " 'chaos': 9656,\n",
              " 'follow': 20132,\n",
              " 'served': 45257,\n",
              " 'presidents': 39376,\n",
              " '50': 1205,\n",
              " 'years': 55979,\n",
              " 'wrote': 55770,\n",
              " 'op': 35889,\n",
              " 'ed': 16693,\n",
              " 'wall': 54471,\n",
              " 'street': 48391,\n",
              " 'journal': 27613,\n",
              " 'failure': 18846,\n",
              " 'democrats': 14147,\n",
              " 'hung': 24766,\n",
              " 'neck': 34359,\n",
              " 'bush': 8365,\n",
              " '43': 1103,\n",
              " 'administration': 2451,\n",
              " 'post': 38957,\n",
              " 'saddam': 43880,\n",
              " 'iraq': 26794,\n",
              " 'regarding': 41805,\n",
              " 'comes': 11039,\n",
              " 'problems': 39603,\n",
              " 'league': 29356,\n",
              " 'expressed': 18592,\n",
              " 'support': 49022,\n",
              " 'building': 8173,\n",
              " 'mexico': 32369,\n",
              " 'torturing': 51091,\n",
              " 'suspected': 49157,\n",
              " 'terrorists': 50215,\n",
              " 'killing': 28359,\n",
              " 'families': 18952,\n",
              " 'vladimir': 54180,\n",
              " 'putin': 40337,\n",
              " 'dictatorial': 14839,\n",
              " 'leadership': 29348,\n",
              " 'hussein': 24834,\n",
              " 'nonexistent': 34975,\n",
              " 'successes': 48742,\n",
              " 'terrorism': 50212,\n",
              " 'recently': 41370,\n",
              " 'worked': 55596,\n",
              " 'george': 21459,\n",
              " 'barack': 5671,\n",
              " 'obama': 35396,\n",
              " 'sized': 46299,\n",
              " 'candidates': 8763,\n",
              " 'variety': 53631,\n",
              " 'global': 21797,\n",
              " 'national': 34196,\n",
              " 'security': 44962,\n",
              " 'issues': 26977,\n",
              " 'china': 9988,\n",
              " 'north': 35078,\n",
              " 'korea': 28650,\n",
              " 'iran': 26787,\n",
              " 'russia': 43746,\n",
              " 'new': 34595,\n",
              " 'best': 6446,\n",
              " 'prepared': 39298,\n",
              " 'early': 16549,\n",
              " 'test': 50234,\n",
              " 'resolve': 42510,\n",
              " 'persian': 37735,\n",
              " 'gulf': 22672,\n",
              " 'continuing': 11893,\n",
              " 'regional': 41824,\n",
              " 'subversion': 48727,\n",
              " 'concerns': 11378,\n",
              " 'fares': 19006,\n",
              " 'slightly': 46526,\n",
              " 'better': 6483,\n",
              " 'time': 50747,\n",
              " 'election': 16937,\n",
              " 'address': 2373,\n",
              " 'forthrightly': 20374,\n",
              " 'trustworthiness': 51828,\n",
              " 'reassure': 41282,\n",
              " 'people': 37562,\n",
              " 'judgment': 27690,\n",
              " 'demonstrate': 14178,\n",
              " 'willingness': 55262,\n",
              " 'stake': 47761,\n",
              " 'positions': 38934,\n",
              " 'odds': 35603,\n",
              " 'party': 37130,\n",
              " 'conventional': 11984,\n",
              " 'wisdom': 55379,\n",
              " 'speak': 47281,\n",
              " 'generalities': 21357,\n",
              " 'deal': 13579,\n",
              " 'middle': 32470,\n",
              " 'east': 16591,\n",
              " 'trade': 51232,\n",
              " 'addresses': 2375,\n",
              " 'believe': 6216,\n",
              " 'affect': 2627,\n",
              " 'vote': 54279,\n",
              " 'including': 25601,\n",
              " 'repair': 42242,\n",
              " 'stubbornly': 48507,\n",
              " 'uninformed': 52786,\n",
              " 'world': 55621,\n",
              " 'lead': 29341,\n",
              " 'country': 12411,\n",
              " 'government': 22105,\n",
              " 'temperamentally': 50073,\n",
              " 'unsuited': 53108,\n",
              " 'men': 32118,\n",
              " 'women': 55517,\n",
              " 'uniform': 52762,\n",
              " 'unqualified': 52971,\n",
              " 'unfit': 52679,\n",
              " 'commander': 11070,\n",
              " 'chief': 9944,\n",
              " 'following': 20137,\n",
              " 'news': 34620,\n",
              " 'fbi': 19168,\n",
              " 'director': 15034,\n",
              " 'james': 27176,\n",
              " 'comey': 11044,\n",
              " 'decision': 13717,\n",
              " 'reopen': 42227,\n",
              " 'investigation': 26695,\n",
              " 'use': 53341,\n",
              " 'private': 39560,\n",
              " 'email': 17103,\n",
              " 'server': 45258,\n",
              " 'tenure': 50147,\n",
              " 'state': 47897,\n",
              " 'department': 14293,\n",
              " 'federal': 19231,\n",
              " 'law': 29264,\n",
              " 'enforcement': 17452,\n",
              " 'officials': 35664,\n",
              " 'come': 11029,\n",
              " 'forward': 20395,\n",
              " 'details': 14582,\n",
              " 'discovered': 15187,\n",
              " 'evidence': 18199,\n",
              " 'case': 9110,\n",
              " 'developing': 14687,\n",
              " 'reopens': 42231,\n",
              " 'emails': 17108,\n",
              " 'pertinent': 37792,\n",
              " 'declined': 13739,\n",
              " 'provide': 39986,\n",
              " 'specific': 47312,\n",
              " 'newly': 34613,\n",
              " 'contained': 11823,\n",
              " 'enforcements': 17453,\n",
              " 'speaking': 47286,\n",
              " 'anonymity': 3761,\n",
              " 'explained': 18530,\n",
              " 'personal': 37753,\n",
              " 'devices': 14703,\n",
              " 'aide': 2854,\n",
              " 'huma': 24696,\n",
              " 'abedin': 1889,\n",
              " 'disgraced': 15254,\n",
              " 'congressman': 11595,\n",
              " 'anthony': 3805,\n",
              " 'weiner': 54878,\n",
              " 'discovery': 15191,\n",
              " 'came': 8681,\n",
              " 'sexting': 45349,\n",
              " 'scandal': 44392,\n",
              " 'alleged': 3150,\n",
              " 'engaging': 17465,\n",
              " 'sexually': 45353,\n",
              " 'explicit': 18540,\n",
              " 'conversations': 11996,\n",
              " 'underage': 52452,\n",
              " 'female': 19317,\n",
              " 'latest': 29183,\n",
              " 'carlos': 8996,\n",
              " 'danger': 13360,\n",
              " 'strikes': 48437,\n",
              " 'reports': 42317,\n",
              " 'allege': 3149,\n",
              " 'knowingly': 28576,\n",
              " 'engaged': 17461,\n",
              " '15': 283,\n",
              " 'year': 55970,\n",
              " 'old': 35751,\n",
              " 'online': 35855,\n",
              " 'reported': 42312,\n",
              " 'york': 56071,\n",
              " 'times': 50761,\n",
              " 'authorities': 5027,\n",
              " 'related': 41992,\n",
              " 'electronic': 16976,\n",
              " 'belonging': 6261,\n",
              " 'seized': 45038,\n",
              " 'investigators': 26701,\n",
              " 'inappropriate': 25517,\n",
              " 'child': 9952,\n",
              " 'nyt': 35359,\n",
              " 'uncovered': 52427,\n",
              " 'closed': 10585,\n",
              " 'mrs': 33632,\n",
              " 'husband': 24823,\n",
              " 'told': 50935,\n",
              " 'congress': 11590,\n",
              " 'aides': 2856,\n",
              " 'mishandled': 32835,\n",
              " 'classified': 10385,\n",
              " 'information': 25972,\n",
              " 'potentially': 39016,\n",
              " 'reigniting': 41899,\n",
              " 'issue': 26974,\n",
              " 'weighed': 54864,\n",
              " 'presidential': 39372,\n",
              " 'campaign': 8700,\n",
              " 'offering': 35647,\n",
              " 'lifeline': 29825,\n",
              " 'weeks': 54844,\n",
              " 'foxnews': 20456,\n",
              " 'watch': 54658,\n",
              " 'video': 53951,\n",
              " 'com': 10998,\n",
              " 'continue': 11890,\n",
              " 'update': 53198,\n",
              " 'surface': 49066,\n",
              " 'interviews': 26564,\n",
              " 'protester': 39952,\n",
              " 'throws': 50602,\n",
              " 'glass': 21749,\n",
              " 'bottle': 7468,\n",
              " 'containing': 11829,\n",
              " 'paint': 36739,\n",
              " 'police': 38682,\n",
              " 'armored': 4343,\n",
              " 'personnel': 37767,\n",
              " 'carrier': 9053,\n",
              " 'anti': 3815,\n",
              " 'demos': 14192,\n",
              " 'village': 54017,\n",
              " 'sitra': 46269,\n",
              " 'south': 47169,\n",
              " 'manama': 31094,\n",
              " 'february': 19222,\n",
              " '14': 259,\n",
              " '2016': 654,\n",
              " 'photo': 37999,\n",
              " 'reuters': 42749,\n",
              " 'fourth': 20441,\n",
              " 'high': 23947,\n",
              " 'criminal': 12695,\n",
              " 'court': 12436,\n",
              " 'bahrain': 5440,\n",
              " 'sentenced': 45168,\n",
              " 'political': 38710,\n",
              " 'opponents': 35945,\n",
              " 'long': 30285,\n",
              " 'jail': 27139,\n",
              " 'terms': 50176,\n",
              " 'revoked': 42834,\n",
              " 'citizenship': 10277,\n",
              " 'rights': 43021,\n",
              " 'groups': 22508,\n",
              " 'criticized': 12752,\n",
              " 'al': 2970,\n",
              " 'khalifa': 28258,\n",
              " 'harsh': 23265,\n",
              " 'crackdown': 12526,\n",
              " 'bahraini': 5441,\n",
              " 'opposition': 35960,\n",
              " 'western': 54958,\n",
              " 'powers': 39070,\n",
              " 'turn': 51990,\n",
              " 'blind': 6937,\n",
              " 'eye': 18702,\n",
              " 'arab': 4148,\n",
              " 'violations': 54068,\n",
              " 'human': 24698,\n",
              " 'edward': 16761,\n",
              " 'corrigan': 12234,\n",
              " 'lawyer': 29290,\n",
              " 'press': 39381,\n",
              " 'tv': 52036,\n",
              " 'program': 39709,\n",
              " 'trying': 51854,\n",
              " 'whitewash': 55104,\n",
              " 'crimes': 12693,\n",
              " 'committed': 11131,\n",
              " 'dictatorships': 14842,\n",
              " 'region': 41823,\n",
              " 'regimes': 41821,\n",
              " 'considered': 11694,\n",
              " 'west': 54952,\n",
              " 'lap': 29094,\n",
              " 'dogs': 15776,\n",
              " 'double': 15961,\n",
              " 'standard': 47805,\n",
              " 'explaining': 18533,\n",
              " 'say': 44348,\n",
              " 'friend': 20693,\n",
              " 'want': 54538,\n",
              " 'oil': 35715,\n",
              " 'invest': 26689,\n",
              " 'money': 33227,\n",
              " 'european': 18111,\n",
              " 'american': 3399,\n",
              " 'economy': 16673,\n",
              " 'won': 55521,\n",
              " 'question': 40542,\n",
              " 'according': 2136,\n",
              " 'analyst': 3529,\n",
              " 'hypocrisy': 24920,\n",
              " 'standards': 47808,\n",
              " 'really': 41217,\n",
              " 'big': 6588,\n",
              " 'game': 21112,\n",
              " 'allies': 3180,\n",
              " 'ok': 35729,\n",
              " 'somebody': 47032,\n",
              " 'don': 15844,\n",
              " 'like': 29879,\n",
              " 'reason': 41260,\n",
              " 'magnify': 30863,\n",
              " 'create': 12603,\n",
              " 'false': 18925,\n",
              " 'flags': 19787,\n",
              " 'things': 50472,\n",
              " 'try': 51852,\n",
              " 'discredit': 15192,\n",
              " 'remarks': 42099,\n",
              " 'definition': 13920,\n",
              " 'covers': 12470,\n",
              " 'kind': 28390,\n",
              " 'does': 15756,\n",
              " 'allow': 3194,\n",
              " 'sort': 47114,\n",
              " 'movements': 33586,\n",
              " 'reform': 41738,\n",
              " 'redress': 41616,\n",
              " 'massive': 31549,\n",
              " 'discrimination': 15207,\n",
              " 'shia': 45654,\n",
              " 'population': 38857,\n",
              " 'voice': 54211,\n",
              " 'democracy': 14134,\n",
              " 'added': 2350,\n",
              " 'remove': 42150,\n",
              " 'nationality': 34205,\n",
              " 'extreme': 18675,\n",
              " 'punishment': 40233,\n",
              " 'draconian': 16065,\n",
              " 'condemned': 11427,\n",
              " 'organizations': 36081,\n",
              " 'cracking': 12530,\n",
              " 'dissent': 15480,\n",
              " '2011': 646,\n",
              " 'uprising': 53238,\n",
              " 'began': 6125,\n",
              " 'scores': 44679,\n",
              " 'lost': 30383,\n",
              " 'lives': 30107,\n",
              " 'hundreds': 24764,\n",
              " 'sustained': 49178,\n",
              " 'injuries': 26085,\n",
              " 'got': 22074,\n",
              " 'arrested': 4395,\n",
              " 'result': 42612,\n",
              " 'khalifah': 28259,\n",
              " 'activists': 2288,\n",
              " 'loading': 30153,\n",
              " 'representative': 42331,\n",
              " 'thugocracy': 50617,\n",
              " 'exclusive': 18340,\n",
              " 'erik': 17839,\n",
              " 'rush': 43731,\n",
              " 'envisions': 17678,\n",
              " 'bludgeon': 7063,\n",
              " 'liberty': 29767,\n",
              " 'published': 40122,\n",
              " 'mins': 32722,\n",
              " 'ago': 2787,\n",
              " 'archive': 4219,\n",
              " 'columnist': 10991,\n",
              " 'author': 5017,\n",
              " 'sociopolitical': 46907,\n",
              " 'fare': 19002,\n",
              " 'book': 7333,\n",
              " 'negrophilia': 34420,\n",
              " 'slave': 46465,\n",
              " 'block': 6978,\n",
              " 'pedestal': 37436,\n",
              " 'america': 3395,\n",
              " 'racial': 40675,\n",
              " 'obsession': 35504,\n",
              " '2007': 636,\n",
              " 'attention': 4873,\n",
              " 'story': 48289,\n",
              " 'sen': 45111,\n",
              " 'ties': 50701,\n",
              " 'militant': 32555,\n",
              " 'chicago': 9928,\n",
              " 'preacher': 39140,\n",
              " 'rev': 42751,\n",
              " 'jeremiah': 27373,\n",
              " 'wright': 55733,\n",
              " 'initiating': 26070,\n",
              " 'media': 31938,\n",
              " 'feeding': 19256,\n",
              " 'frenzy': 20644,\n",
              " 'appeared': 4009,\n",
              " 'fox': 20447,\n",
              " 'hannity': 23109,\n",
              " 'colmes': 10933,\n",
              " 'cnn': 10678,\n",
              " 'veteran': 53864,\n",
              " 'numerous': 35293,\n",
              " 'radio': 40722,\n",
              " 'appearances': 4008,\n",
              " 'print': 39524,\n",
              " 'feel': 19260,\n",
              " 'strongly': 48478,\n",
              " 'supreme': 49046,\n",
              " 'needs': 34379,\n",
              " 'stand': 47803,\n",
              " 'powerful': 39061,\n",
              " 'corporations': 12186,\n",
              " 'wealthy': 54757,\n",
              " 'means': 31893,\n",
              " 'need': 34366,\n",
              " 'behalf': 6150,\n",
              " 'lgbt': 29720,\n",
              " 'community': 11177,\n",
              " 'citizens': 10276,\n",
              " 'united': 52819,\n",
              " 'undermined': 52506,\n",
              " 'way': 54718,\n",
              " 'permits': 37691,\n",
              " 'dark': 13411,\n",
              " 'unaccountable': 52257,\n",
              " 'electoral': 16945,\n",
              " 'salvo': 44065,\n",
              " 'democratic': 14138,\n",
              " 'nominee': 34938,\n",
              " 'answer': 3775,\n",
              " 'posed': 38924,\n",
              " 'chris': 10082,\n",
              " 'wallace': 54473,\n",
              " 'debate': 13617,\n",
              " 'chilling': 9976,\n",
              " 'exemplar': 18375,\n",
              " 'left': 29451,\n",
              " 'quite': 40609,\n",
              " 'fond': 20146,\n",
              " 'leveling': 29666,\n",
              " 'accusation': 2166,\n",
              " 'conservatives': 11680,\n",
              " 'employing': 17272,\n",
              " 'dog': 15761,\n",
              " 'whistle': 55074,\n",
              " 'politics': 38724,\n",
              " 'rhetoric': 42898,\n",
              " 'allegedly': 3151,\n",
              " 'contains': 11832,\n",
              " 'hidden': 23922,\n",
              " 'esoteric': 17945,\n",
              " 'derogatory': 14435,\n",
              " 'messaging': 32263,\n",
              " 'targets': 49768,\n",
              " 'subgroup': 48603,\n",
              " 'ms': 33633,\n",
              " 'response': 42559,\n",
              " 'wanted': 54539,\n",
              " 'views': 53985,\n",
              " 'constitution': 11753,\n",
              " 'ought': 36232,\n",
              " 'interpreted': 26506,\n",
              " 'tactic': 49540,\n",
              " 'curious': 13093,\n",
              " 'focus': 20086,\n",
              " 'objectively': 35441,\n",
              " 'wouldn': 55668,\n",
              " 'appear': 4006,\n",
              " 'particularly': 37105,\n",
              " 'oppressed': 35965,\n",
              " 'given': 21707,\n",
              " 'nominated': 34933,\n",
              " 'run': 43703,\n",
              " 'accounts': 2148,\n",
              " 'percent': 37581,\n",
              " 'revealed': 42759,\n",
              " 'believes': 6220,\n",
              " 'empress': 17282,\n",
              " 'course': 12433,\n",
              " 'unfettered': 52675,\n",
              " 'abortion': 1950,\n",
              " 'late': 29173,\n",
              " 'term': 50161,\n",
              " 'essentially': 17979,\n",
              " 'infanticide': 25885,\n",
              " 'dismemberment': 15331,\n",
              " 'disenfranchising': 15240,\n",
              " 'majority': 30957,\n",
              " 'americans': 3407,\n",
              " 'hold': 24232,\n",
              " 'traditional': 51247,\n",
              " 'values': 53553,\n",
              " 'primarily': 39493,\n",
              " 'christians': 10097,\n",
              " 'leveraging': 29675,\n",
              " 'vocal': 54194,\n",
              " 'minority': 32720,\n",
              " 'homosexuals': 24354,\n",
              " 'bisexuals': 6755,\n",
              " 'transgender': 51359,\n",
              " 'individuals': 25784,\n",
              " 'whipped': 55056,\n",
              " 'froth': 20767,\n",
              " 'methodology': 32335,\n",
              " 'employed': 17267,\n",
              " 'negate': 34391,\n",
              " 'power': 39056,\n",
              " 'europe': 18110,\n",
              " 'canada': 8729,\n",
              " 'direct': 15023,\n",
              " 'assault': 4624,\n",
              " 'legislation': 29494,\n",
              " 'area': 4236,\n",
              " 'work': 55592,\n",
              " 'present': 39346,\n",
              " 'judicial': 27694,\n",
              " 'rulings': 43682,\n",
              " 'effectively': 16783,\n",
              " 'let': 29634,\n",
              " 'leave': 29404,\n",
              " 'aside': 4558,\n",
              " 'moment': 33183,\n",
              " 'fact': 18794,\n",
              " 'activism': 2285,\n",
              " 'unethical': 52646,\n",
              " 'skirts': 46383,\n",
              " 'overall': 36400,\n",
              " 'objectives': 35442,\n",
              " 'manifestly': 31156,\n",
              " 'evil': 18206,\n",
              " 'stated': 47899,\n",
              " 'priorities': 39536,\n",
              " 'clear': 10436,\n",
              " 'indicator': 25738,\n",
              " 'desire': 14501,\n",
              " 'individual': 25776,\n",
              " 'liberties': 29764,\n",
              " 'allowing': 3199,\n",
              " 'perform': 37625,\n",
              " 'designated': 14488,\n",
              " 'function': 20877,\n",
              " 'attendant': 4866,\n",
              " 'citing': 10272,\n",
              " 'beholden': 6174,\n",
              " 'financial': 19600,\n",
              " 'contributions': 11951,\n",
              " 'nations': 34214,\n",
              " 'institutionally': 26275,\n",
              " 'persecute': 37724,\n",
              " 'murder': 33812,\n",
              " 'members': 32087,\n",
              " 'remains': 42090,\n",
              " 'plain': 38345,\n",
              " 'despite': 14532,\n",
              " 'conveniently': 11981,\n",
              " 'ignored': 25108,\n",
              " 'reference': 41691,\n",
              " 'malign': 31026,\n",
              " 'influence': 25950,\n",
              " 'sinister': 46209,\n",
              " 'conservative': 11677,\n",
              " 'organization': 36078,\n",
              " 'exercise': 18387,\n",
              " 'blatant': 6889,\n",
              " 'corrupt': 12244,\n",
              " 'compromised': 11321,\n",
              " 'instrumental': 26287,\n",
              " 'bringing': 7876,\n",
              " 'designs': 14497,\n",
              " 'socialists': 46884,\n",
              " 'vehicle': 53703,\n",
              " 'scope': 44665,\n",
              " 'pale': 36781,\n",
              " 'subversive': 48728,\n",
              " 'muslim': 33873,\n",
              " 'brotherhood': 8000,\n",
              " 'partnered': 37122,\n",
              " 'decades': 13657,\n",
              " 'myriad': 33961,\n",
              " 'tentacles': 50135,\n",
              " 'funded': 20893,\n",
              " 'soros': 47108,\n",
              " 'nazi': 34288,\n",
              " 'collaborator': 10872,\n",
              " 'dedicated': 13801,\n",
              " 'advancing': 2540,\n",
              " 'oligarchical': 35767,\n",
              " 'collectivism': 10897,\n",
              " 'clintons': 10543,\n",
              " 'association': 4694,\n",
              " 'attempt': 4859,\n",
              " 'decipher': 13714,\n",
              " 'thinly': 50482,\n",
              " 'veiled': 53706,\n",
              " 'intent': 26376,\n",
              " 'discern': 15126,\n",
              " 'presidency': 39370,\n",
              " 'look': 30303,\n",
              " 'actions': 2277,\n",
              " 'date': 13469,\n",
              " 'pursuit': 40312,\n",
              " 'seeking': 44991,\n",
              " 'suffice': 48784,\n",
              " 'nicely': 34703,\n",
              " 'craven': 12578,\n",
              " 'complicity': 11278,\n",
              " 'establishment': 17989,\n",
              " 'mainstream': 30930,\n",
              " 'ample': 3478,\n",
              " 'indolent': 25791,\n",
              " 'consumer': 11802,\n",
              " 'reach': 41145,\n",
              " 'conclusion': 11397,\n",
              " 'leviathan': 29679,\n",
              " 'supporting': 49027,\n",
              " 'facilitated': 18782,\n",
              " 'rise': 43087,\n",
              " 'fundamentally': 20891,\n",
              " 'malignant': 31028,\n",
              " 'recent': 41369,\n",
              " 'days': 13525,\n",
              " 've': 53677,\n",
              " 'aware': 5162,\n",
              " 'manner': 31184,\n",
              " 'conspiracies': 11724,\n",
              " 'outright': 36346,\n",
              " 'criminality': 12696,\n",
              " 'brought': 8004,\n",
              " 'bear': 6006,\n",
              " 'getting': 21532,\n",
              " 'elected': 16935,\n",
              " 'tampering': 49684,\n",
              " 'outcome': 36262,\n",
              " 'illegal': 25141,\n",
              " 'oversampling': 36513,\n",
              " 'key': 28213,\n",
              " 'demographics': 14152,\n",
              " 'polling': 38744,\n",
              " 'order': 36046,\n",
              " 'enhance': 17489,\n",
              " 'public': 40107,\n",
              " 'perception': 37590,\n",
              " 'popularity': 38850,\n",
              " 'revelation': 42765,\n",
              " 'criminally': 12702,\n",
              " 'prosecutable': 39888,\n",
              " 'committee': 11132,\n",
              " 'white': 55084,\n",
              " 'house': 24561,\n",
              " 'line': 29953,\n",
              " 'represents': 42336,\n",
              " 'class': 10375,\n",
              " 'transcend': 51329,\n",
              " 'loathed': 30164,\n",
              " 'archetypal': 4207,\n",
              " 'modern': 33077,\n",
              " 'politician': 38712,\n",
              " 'rapaciousness': 40963,\n",
              " 'amorality': 3464,\n",
              " 'just': 27780,\n",
              " 'voters': 54285,\n",
              " 'republicans': 42375,\n",
              " 'realize': 41210,\n",
              " 'leaders': 29347,\n",
              " 'highest': 23949,\n",
              " 'levels': 29668,\n",
              " 'republican': 42373,\n",
              " 'bit': 6763,\n",
              " 'culpable': 13020,\n",
              " 'gutter': 22753,\n",
              " 'operatives': 35921,\n",
              " 'pay': 37328,\n",
              " 'miscreants': 32806,\n",
              " 'dress': 16146,\n",
              " 'ducks': 16294,\n",
              " 'instigate': 26253,\n",
              " 'fistfights': 19730,\n",
              " 'rallies': 40856,\n",
              " 'yes': 56014,\n",
              " 'burning': 8330,\n",
              " 'end': 17366,\n",
              " 'governed': 22102,\n",
              " 'going': 21948,\n",
              " 'pretending': 39419,\n",
              " 'effect': 16780,\n",
              " 'ruled': 43674,\n",
              " 'abject': 1918,\n",
              " 'thugs': 50618,\n",
              " 'operating': 35913,\n",
              " 'faux': 19124,\n",
              " 'veneer': 53742,\n",
              " 'wishing': 55396,\n",
              " 'interview': 26557,\n",
              " 'contact': 11813,\n",
              " 'receive': 41363,\n",
              " 'commentaries': 11098,\n",
              " 'bonus': 7321,\n",
              " 'signing': 46080,\n",
              " 'alerts': 3057,\n",
              " 'signed': 46069,\n",
              " 'special': 47296,\n",
              " 'offers': 35649,\n",
              " 'wnd': 55473,\n",
              " 'increasingly': 25659,\n",
              " 'apparent': 3999,\n",
              " 'war': 54547,\n",
              " 'islamic': 26914,\n",
              " 'extremism': 18678,\n",
              " 'team': 49916,\n",
              " 'mention': 32161,\n",
              " 'qaeda': 40383,\n",
              " 'union': 52800,\n",
              " 'january': 27210,\n",
              " 'terrorist': 50213,\n",
              " 'attacks': 4851,\n",
              " 'paris': 37020,\n",
              " 'charlie': 9723,\n",
              " 'hebdo': 23581,\n",
              " 'magazine': 30822,\n",
              " 'kosher': 28665,\n",
              " 'supermarket': 48964,\n",
              " 'gave': 21260,\n",
              " 'glimpse': 21782,\n",
              " 'future': 20963,\n",
              " 'looks': 30309,\n",
              " 'civilized': 10299,\n",
              " 'defend': 13877,\n",
              " 'unfolding': 52693,\n",
              " 'yemen': 56003,\n",
              " 'loss': 30380,\n",
              " 'partner': 37121,\n",
              " 'fight': 19512,\n",
              " 'arabian': 4150,\n",
              " 'peninsula': 37527,\n",
              " 'aqap': 4129,\n",
              " 'raises': 40824,\n",
              " 'months': 33318,\n",
              " 'cited': 10267,\n",
              " 'successful': 48743,\n",
              " 'model': 33061,\n",
              " 'led': 29427,\n",
              " 'efforts': 16797,\n",
              " 'defeat': 13855,\n",
              " 'levant': 29659,\n",
              " 'isil': 26907,\n",
              " 'faces': 18771,\n",
              " 'enemy': 17430,\n",
              " 'radical': 40709,\n",
              " 'violent': 54073,\n",
              " 'islam': 26911,\n",
              " 'march': 31270,\n",
              " '2013': 650,\n",
              " 'confined': 11511,\n",
              " 'syria': 49457,\n",
              " 'civil': 10289,\n",
              " 'dragged': 16075,\n",
              " 'absence': 1990,\n",
              " 'forceful': 20214,\n",
              " 'intervention': 26552,\n",
              " 'states': 47910,\n",
              " 'chaotic': 9658,\n",
              " 'situation': 46277,\n",
              " 'spread': 47562,\n",
              " 'weak': 54741,\n",
              " 'services': 45266,\n",
              " 'match': 31573,\n",
              " 'emboldened': 17155,\n",
              " 'army': 4349,\n",
              " '2014': 651,\n",
              " 'blossomed': 7042,\n",
              " 'supplant': 49006,\n",
              " 'likeminded': 29887,\n",
              " 'counted': 12352,\n",
              " 'affiliates': 2642,\n",
              " 'algeria': 3080,\n",
              " 'egypt': 16836,\n",
              " 'saudi': 44288,\n",
              " 'arabia': 4149,\n",
              " 'begun': 6149,\n",
              " 'make': 30961,\n",
              " 'inroads': 26149,\n",
              " 'involved': 26737,\n",
              " 'degrade': 13967,\n",
              " 'capabilities': 8835,\n",
              " 'unable': 52250,\n",
              " 'eliminate': 17026,\n",
              " 'ability': 1917,\n",
              " 'conduct': 11460,\n",
              " 'pressing': 39386,\n",
              " 'threats': 50563,\n",
              " 'currently': 13104,\n",
              " 'wake': 54437,\n",
              " 'plots': 38496,\n",
              " 'disrupted': 15456,\n",
              " 'capitals': 8864,\n",
              " 'rightfully': 43013,\n",
              " 'defiant': 13901,\n",
              " 'terror': 50208,\n",
              " 'strategy': 48358,\n",
              " 'task': 49808,\n",
              " 'defending': 13883,\n",
              " 'triple': 51648,\n",
              " 'threat': 50557,\n",
              " 'home': 24293,\n",
              " 'grown': 22525,\n",
              " 'jihadists': 27444,\n",
              " 'easy': 16603,\n",
              " 'access': 2090,\n",
              " 'hotbeds': 24531,\n",
              " 'radicalization': 40713,\n",
              " 'places': 38335,\n",
              " 'expansion': 18457,\n",
              " 'nearly': 34341,\n",
              " 'impossible': 25419,\n",
              " 'continues': 11892,\n",
              " 'recruit': 41510,\n",
              " 'extremists': 18680,\n",
              " 'far': 18993,\n",
              " 'away': 5165,\n",
              " 'southeast': 47174,\n",
              " 'asia': 4555,\n",
              " 'targeted': 49766,\n",
              " 'quality': 40466,\n",
              " 'videos': 53957,\n",
              " 'magazines': 30823,\n",
              " 'literature': 30058,\n",
              " 'copied': 12088,\n",
              " 'languages': 29071,\n",
              " 'message': 32259,\n",
              " 'trumpet': 51783,\n",
              " 'battlefield': 5924,\n",
              " 'portray': 38911,\n",
              " 'welcoming': 54903,\n",
              " 'environment': 17665,\n",
              " 'centered': 9451,\n",
              " 'family': 18953,\n",
              " 'attract': 4896,\n",
              " 'subjects': 48616,\n",
              " 'caliphate': 8628,\n",
              " 'countries': 12410,\n",
              " 'coordinate': 12070,\n",
              " 'cutting': 13171,\n",
              " 'counter': 12354,\n",
              " 'social': 46878,\n",
              " 'bolster': 7252,\n",
              " 'jordan': 27576,\n",
              " 'ensure': 17574,\n",
              " 'prevent': 39441,\n",
              " 'traveling': 51462,\n",
              " 'forth': 20371,\n",
              " 'homelands': 24301,\n",
              " 'importantly': 25404,\n",
              " 'help': 23702,\n",
              " 'governments': 22107,\n",
              " 'safe': 43911,\n",
              " 'havens': 23382,\n",
              " 'relies': 42044,\n",
              " 'gather': 21234,\n",
              " 'strength': 48397,\n",
              " 'examples': 18275,\n",
              " 'learn': 29384,\n",
              " 'fundamental': 20886,\n",
              " 'lessons': 29630,\n",
              " 'september': 45197,\n",
              " '11': 156,\n",
              " '2001': 629,\n",
              " 'failing': 18843,\n",
              " 'breed': 7754,\n",
              " 'instability': 26230,\n",
              " 'potential': 39013,\n",
              " 'eventually': 18170,\n",
              " 'afford': 2665,\n",
              " 'ignore': 25107,\n",
              " 'lesson': 29629,\n",
              " 'curtail': 13120,\n",
              " 'intelligence': 26350,\n",
              " 'gathering': 21237,\n",
              " 'legally': 29478,\n",
              " 'painstakingly': 36738,\n",
              " 'established': 17986,\n",
              " 'horrific': 24482,\n",
              " 'implore': 25392,\n",
              " 'technology': 49965,\n",
              " 'companies': 11188,\n",
              " 'cooperate': 12059,\n",
              " 'track': 51217,\n",
              " 'activity': 2290,\n",
              " 'monitor': 33244,\n",
              " 'communications': 11166,\n",
              " 'increasing': 25658,\n",
              " 'challenge': 9595,\n",
              " 'homegrown': 24299,\n",
              " 'radicalized': 40715,\n",
              " 'little': 30081,\n",
              " 'internet': 26489,\n",
              " 'houses': 24573,\n",
              " 'extend': 18612,\n",
              " 'current': 13103,\n",
              " 'surveillance': 49125,\n",
              " 'act': 2268,\n",
              " 'urge': 53290,\n",
              " 'colleagues': 10888,\n",
              " 'consider': 11688,\n",
              " 'permanent': 37680,\n",
              " 'extension': 18616,\n",
              " 'counterterrorism': 12399,\n",
              " 'tools': 51015,\n",
              " 'free': 20586,\n",
              " 'societies': 46893,\n",
              " 'unlike': 52864,\n",
              " 'seen': 44997,\n",
              " 'encouraging': 17355,\n",
              " 'europeans': 18112,\n",
              " 'aggressively': 2763,\n",
              " 'moving': 33593,\n",
              " 'continent': 11879,\n",
              " 'attack': 4846,\n",
              " 'setbacks': 45283,\n",
              " 'stalemate': 47770,\n",
              " 'limitations': 29925,\n",
              " 'lofty': 30230,\n",
              " 'speeches': 47353,\n",
              " 'half': 22939,\n",
              " 'measures': 31907,\n",
              " 'growing': 22520,\n",
              " 'greater': 22310,\n",
              " 'fear': 19191,\n",
              " 'matter': 31627,\n",
              " 'innocent': 26110,\n",
              " 'ultimate': 52211,\n",
              " 'price': 39465,\n",
              " 'underestimate': 52474,\n",
              " 'enemies': 17429,\n",
              " 'develop': 14682,\n",
              " 'commensurate': 11095,\n",
              " 'marco': 31280,\n",
              " 'rubio': 43620,\n",
              " 'florida': 19983,\n",
              " 'senate': 45114,\n",
              " 'member': 32086,\n",
              " 'commerce': 11107,\n",
              " 'science': 44625,\n",
              " 'transportation': 51420,\n",
              " 'candidate': 8762,\n",
              " 'nomination': 34936,\n",
              " 'getty': 21533,\n",
              " 'jemall': 27341,\n",
              " 'countess': 12405,\n",
              " 'stringer': 48443,\n",
              " 'wildfire': 55229,\n",
              " 'opinion': 35930,\n",
              " ...}"
            ]
          },
          "metadata": {},
          "execution_count": 25
        }
      ],
      "source": [
        "countVectorizer.vocabulary_"
      ]
    },
    {
      "cell_type": "markdown",
      "source": [
        "# Create a word cloud"
      ],
      "metadata": {
        "id": "vwD0VZ48iiwK"
      },
      "id": "vwD0VZ48iiwK"
    },
    {
      "cell_type": "code",
      "source": [
        "print(list(vocab.keys())[:10])  # Print first 10 keys to check\n"
      ],
      "metadata": {
        "id": "xmgnZsVEfIeb",
        "outputId": "3bbedda9-25e8-48af-9dc6-b5a89041d700",
        "colab": {
          "base_uri": "https://localhost:8080/"
        }
      },
      "id": "xmgnZsVEfIeb",
      "execution_count": 45,
      "outputs": [
        {
          "output_type": "stream",
          "name": "stdout",
          "text": [
            "['daniel', 'greenfield', 'shillman', 'journalism', 'fellow', 'at', 'the', 'freedom', 'center', 'is']\n"
          ]
        }
      ]
    },
    {
      "cell_type": "code",
      "source": [
        "texts = df['text'].dropna()"
      ],
      "metadata": {
        "id": "7qzSgXRPgIJS"
      },
      "id": "7qzSgXRPgIJS",
      "execution_count": 46,
      "outputs": []
    },
    {
      "cell_type": "code",
      "source": [
        "vectorizer = CountVectorizer()"
      ],
      "metadata": {
        "id": "k5UIxAQegL2W"
      },
      "id": "k5UIxAQegL2W",
      "execution_count": 47,
      "outputs": []
    },
    {
      "cell_type": "markdown",
      "source": [
        "# Fit and transform the data to generate a term-document matrix"
      ],
      "metadata": {
        "id": "UmHDBGLrh5rM"
      },
      "id": "UmHDBGLrh5rM"
    },
    {
      "cell_type": "code",
      "source": [
        "X = vectorizer.fit_transform(texts)"
      ],
      "metadata": {
        "id": "CFaazY07gN-S"
      },
      "id": "CFaazY07gN-S",
      "execution_count": 48,
      "outputs": []
    },
    {
      "cell_type": "code",
      "source": [
        "word_freq = np.sum(X.toarray(), axis=0)"
      ],
      "metadata": {
        "id": "3y_Lwy2MgVDk"
      },
      "id": "3y_Lwy2MgVDk",
      "execution_count": 49,
      "outputs": []
    },
    {
      "cell_type": "code",
      "source": [
        "vocab_freq = {word: freq for word, freq in zip(vectorizer.get_feature_names_out(), word_freq)}"
      ],
      "metadata": {
        "id": "kVuL_cZKgXH_"
      },
      "id": "kVuL_cZKgXH_",
      "execution_count": 50,
      "outputs": []
    },
    {
      "cell_type": "code",
      "source": [
        "wordcloud = WordCloud(width=800, height=400, background_color='white').generate_from_frequencies(vocab_freq)"
      ],
      "metadata": {
        "id": "WicBjWI1gZ7j"
      },
      "id": "WicBjWI1gZ7j",
      "execution_count": 51,
      "outputs": []
    },
    {
      "cell_type": "code",
      "source": [
        "# Assume vocab_freq is your vocabulary frequency dictionary\n",
        "# Remove a specific word (e.g., 'remove_this_word')\n",
        "if 'trump' in vocab_freq:\n",
        "    removed_word_freq = vocab_freq.pop('trump')"
      ],
      "metadata": {
        "id": "-Sh7_skwhb5x"
      },
      "id": "-Sh7_skwhb5x",
      "execution_count": 52,
      "outputs": []
    },
    {
      "cell_type": "code",
      "source": [
        "# Add a new word (e.g., 'new_word') with the frequency of the removed word\n",
        "vocab_freq['authenticator'] = removed_word_freq"
      ],
      "metadata": {
        "id": "T809AEmXhjkR"
      },
      "id": "T809AEmXhjkR",
      "execution_count": 53,
      "outputs": []
    },
    {
      "cell_type": "code",
      "source": [
        "wordcloud = WordCloud(width=800, height=400, background_color='white').generate_from_frequencies(vocab_freq)\n"
      ],
      "metadata": {
        "id": "y35naQr0hmDG"
      },
      "id": "y35naQr0hmDG",
      "execution_count": 54,
      "outputs": []
    },
    {
      "cell_type": "code",
      "source": [
        "plt.figure(figsize=(10, 5))\n",
        "plt.imshow(wordcloud, interpolation='bilinear')\n",
        "plt.axis('off')\n",
        "plt.show()\n"
      ],
      "metadata": {
        "id": "1lBtsgHYgbyp",
        "outputId": "a6b7a287-91c6-42fe-bf3f-2436c609a516",
        "colab": {
          "base_uri": "https://localhost:8080/",
          "height": 422
        }
      },
      "id": "1lBtsgHYgbyp",
      "execution_count": 55,
      "outputs": [
        {
          "output_type": "display_data",
          "data": {
            "text/plain": [
              "<Figure size 1000x500 with 1 Axes>"
            ],
            "image/png": "[encoded data removed]"
          },
          "metadata": {}
        }
      ]
    },
    {
      "cell_type": "code",
      "execution_count": null,
      "id": "d5d0aea1",
      "metadata": {
        "id": "d5d0aea1"
      },
      "outputs": [],
      "source": [
        "countTest = countVectorizer.fit_transform(x_test)"
      ]
    },
    {
      "cell_type": "code",
      "execution_count": null,
      "id": "a1d74a8e",
      "metadata": {
        "colab": {
          "base_uri": "https://localhost:8080/"
        },
        "id": "a1d74a8e",
        "outputId": "946ff1d5-12ce-4421-a634-4a9bb3119fc5"
      },
      "outputs": [
        {
          "output_type": "execute_result",
          "data": {
            "text/plain": [
              "(2091, 42708)"
            ]
          },
          "metadata": {},
          "execution_count": 57
        }
      ],
      "source": [
        "countTest.shape"
      ]
    },
    {
      "cell_type": "code",
      "execution_count": null,
      "id": "ac68954f",
      "metadata": {
        "id": "ac68954f"
      },
      "outputs": [],
      "source": [
        "tfIDF = TfidfVectorizer(stop_words = 'english', max_df=0.7)"
      ]
    },
    {
      "cell_type": "code",
      "execution_count": null,
      "id": "fc195297",
      "metadata": {
        "id": "fc195297"
      },
      "outputs": [],
      "source": [
        "tfIDFtrain = tfIDF.fit_transform(x_train)"
      ]
    },
    {
      "cell_type": "code",
      "execution_count": null,
      "id": "01f420de",
      "metadata": {
        "colab": {
          "base_uri": "https://localhost:8080/"
        },
        "id": "01f420de",
        "outputId": "4adcf9f1-1ded-4ff2-b5d7-c35461952d32"
      },
      "outputs": [
        {
          "output_type": "execute_result",
          "data": {
            "text/plain": [
              "(4244, 56801)"
            ]
          },
          "metadata": {},
          "execution_count": 60
        }
      ],
      "source": [
        "tfIDFtrain.shape"
      ]
    },
    {
      "cell_type": "code",
      "execution_count": null,
      "id": "be96955f",
      "metadata": {
        "colab": {
          "base_uri": "https://localhost:8080/"
        },
        "id": "be96955f",
        "outputId": "a499fa5a-d5b4-4db2-e517-2b763ee6b332"
      },
      "outputs": [
        {
          "output_type": "execute_result",
          "data": {
            "text/plain": [
              "array([[0.       , 0.       , 0.       , ..., 0.       , 0.       ,\n",
              "        0.       ],\n",
              "       [0.       , 0.       , 0.       , ..., 0.       , 0.       ,\n",
              "        0.       ],\n",
              "       [0.       , 0.       , 0.       , ..., 0.       , 0.       ,\n",
              "        0.       ],\n",
              "       ...,\n",
              "       [0.0575239, 0.       , 0.       , ..., 0.       , 0.       ,\n",
              "        0.       ],\n",
              "       [0.       , 0.       , 0.       , ..., 0.       , 0.       ,\n",
              "        0.       ],\n",
              "       [0.       , 0.       , 0.       , ..., 0.       , 0.       ,\n",
              "        0.       ]])"
            ]
          },
          "metadata": {},
          "execution_count": 61
        }
      ],
      "source": [
        "tfIDFtrain.A[0:10]"
      ]
    },
    {
      "cell_type": "code",
      "execution_count": null,
      "id": "9d108613",
      "metadata": {
        "id": "9d108613"
      },
      "outputs": [],
      "source": [
        "tfIDFtest = tfIDF.fit_transform(x_test)"
      ]
    },
    {
      "cell_type": "markdown",
      "id": "c2775cff",
      "metadata": {
        "id": "c2775cff"
      },
      "source": [
        "## ML Pipeline"
      ]
    },
    {
      "cell_type": "code",
      "execution_count": null,
      "id": "3773fd38",
      "metadata": {
        "id": "3773fd38"
      },
      "outputs": [],
      "source": [
        "nbPipeline = Pipeline([\n",
        "    ('tf_idf', tfIDF),\n",
        "    ('nb_clf', MultinomialNB())\n",
        "])"
      ]
    },
    {
      "cell_type": "code",
      "execution_count": null,
      "id": "e48598cc",
      "metadata": {
        "colab": {
          "base_uri": "https://localhost:8080/",
          "height": 124
        },
        "id": "e48598cc",
        "outputId": "b353ceff-202a-4284-ff90-8b3d7417258f"
      },
      "outputs": [
        {
          "output_type": "execute_result",
          "data": {
            "text/plain": [
              "Pipeline(steps=[('tf_idf', TfidfVectorizer(max_df=0.7, stop_words='english')),\n",
              "                ('nb_clf', MultinomialNB())])"
            ],
            "text/html": [
              "<style>#sk-container-id-2 {color: black;background-color: white;}#sk-container-id-2 pre{padding: 0;}#sk-container-id-2 div.sk-toggleable {background-color: white;}#sk-container-id-2 label.sk-toggleable__label {cursor: pointer;display: block;width: 100%;margin-bottom: 0;padding: 0.3em;box-sizing: border-box;text-align: center;}#sk-container-id-2 label.sk-toggleable__label-arrow:before {content: \"▸\";float: left;margin-right: 0.25em;color: #696969;}#sk-container-id-2 label.sk-toggleable__label-arrow:hover:before {color: black;}#sk-container-id-2 div.sk-estimator:hover label.sk-toggleable__label-arrow:before {color: black;}#sk-container-id-2 div.sk-toggleable__content {max-height: 0;max-width: 0;overflow: hidden;text-align: left;background-color: #f0f8ff;}#sk-container-id-2 div.sk-toggleable__content pre {margin: 0.2em;color: black;border-radius: 0.25em;background-color: #f0f8ff;}#sk-container-id-2 input.sk-toggleable__control:checked~div.sk-toggleable__content {max-height: 200px;max-width: 100%;overflow: auto;}#sk-container-id-2 input.sk-toggleable__control:checked~label.sk-toggleable__label-arrow:before {content: \"▾\";}#sk-container-id-2 div.sk-estimator input.sk-toggleable__control:checked~label.sk-toggleable__label {background-color: #d4ebff;}#sk-container-id-2 div.sk-label input.sk-toggleable__control:checked~label.sk-toggleable__label {background-color: #d4ebff;}#sk-container-id-2 input.sk-hidden--visually {border: 0;clip: rect(1px 1px 1px 1px);clip: rect(1px, 1px, 1px, 1px);height: 1px;margin: -1px;overflow: hidden;padding: 0;position: absolute;width: 1px;}#sk-container-id-2 div.sk-estimator {font-family: monospace;background-color: #f0f8ff;border: 1px dotted black;border-radius: 0.25em;box-sizing: border-box;margin-bottom: 0.5em;}#sk-container-id-2 div.sk-estimator:hover {background-color: #d4ebff;}#sk-container-id-2 div.sk-parallel-item::after {content: \"\";width: 100%;border-bottom: 1px solid gray;flex-grow: 1;}#sk-container-id-2 div.sk-label:hover label.sk-toggleable__label {background-color: #d4ebff;}#sk-container-id-2 div.sk-serial::before {content: \"\";position: absolute;border-left: 1px solid gray;box-sizing: border-box;top: 0;bottom: 0;left: 50%;z-index: 0;}#sk-container-id-2 div.sk-serial {display: flex;flex-direction: column;align-items: center;background-color: white;padding-right: 0.2em;padding-left: 0.2em;position: relative;}#sk-container-id-2 div.sk-item {position: relative;z-index: 1;}#sk-container-id-2 div.sk-parallel {display: flex;align-items: stretch;justify-content: center;background-color: white;position: relative;}#sk-container-id-2 div.sk-item::before, #sk-container-id-2 div.sk-parallel-item::before {content: \"\";position: absolute;border-left: 1px solid gray;box-sizing: border-box;top: 0;bottom: 0;left: 50%;z-index: -1;}#sk-container-id-2 div.sk-parallel-item {display: flex;flex-direction: column;z-index: 1;position: relative;background-color: white;}#sk-container-id-2 div.sk-parallel-item:first-child::after {align-self: flex-end;width: 50%;}#sk-container-id-2 div.sk-parallel-item:last-child::after {align-self: flex-start;width: 50%;}#sk-container-id-2 div.sk-parallel-item:only-child::after {width: 0;}#sk-container-id-2 div.sk-dashed-wrapped {border: 1px dashed gray;margin: 0 0.4em 0.5em 0.4em;box-sizing: border-box;padding-bottom: 0.4em;background-color: white;}#sk-container-id-2 div.sk-label label {font-family: monospace;font-weight: bold;display: inline-block;line-height: 1.2em;}#sk-container-id-2 div.sk-label-container {text-align: center;}#sk-container-id-2 div.sk-container {/* jupyter's `normalize.less` sets `[hidden] { display: none; }` but bootstrap.min.css set `[hidden] { display: none !important; }` so we also need the `!important` here to be able to override the default hidden behavior on the sphinx rendered scikit-learn.org. See: https://github.com/scikit-learn/scikit-learn/issues/21755 */display: inline-block !important;position: relative;}#sk-container-id-2 div.sk-text-repr-fallback {display: none;}</style><div id=\"sk-container-id-2\" class=\"sk-top-container\"><div class=\"sk-text-repr-fallback\"><pre>Pipeline(steps=[(&#x27;tf_idf&#x27;, TfidfVectorizer(max_df=0.7, stop_words=&#x27;english&#x27;)),\n",
              "                (&#x27;nb_clf&#x27;, MultinomialNB())])</pre><b>In a Jupyter environment, please rerun this cell to show the HTML representation or trust the notebook. <br />On GitHub, the HTML representation is unable to render, please try loading this page with nbviewer.org.</b></div><div class=\"sk-container\" hidden><div class=\"sk-item sk-dashed-wrapped\"><div class=\"sk-label-container\"><div class=\"sk-label sk-toggleable\"><input class=\"sk-toggleable__control sk-hidden--visually\" id=\"sk-estimator-id-4\" type=\"checkbox\" ><label for=\"sk-estimator-id-4\" class=\"sk-toggleable__label sk-toggleable__label-arrow\">Pipeline</label><div class=\"sk-toggleable__content\"><pre>Pipeline(steps=[(&#x27;tf_idf&#x27;, TfidfVectorizer(max_df=0.7, stop_words=&#x27;english&#x27;)),\n",
              "                (&#x27;nb_clf&#x27;, MultinomialNB())])</pre></div></div></div><div class=\"sk-serial\"><div class=\"sk-item\"><div class=\"sk-estimator sk-toggleable\"><input class=\"sk-toggleable__control sk-hidden--visually\" id=\"sk-estimator-id-5\" type=\"checkbox\" ><label for=\"sk-estimator-id-5\" class=\"sk-toggleable__label sk-toggleable__label-arrow\">TfidfVectorizer</label><div class=\"sk-toggleable__content\"><pre>TfidfVectorizer(max_df=0.7, stop_words=&#x27;english&#x27;)</pre></div></div></div><div class=\"sk-item\"><div class=\"sk-estimator sk-toggleable\"><input class=\"sk-toggleable__control sk-hidden--visually\" id=\"sk-estimator-id-6\" type=\"checkbox\" ><label for=\"sk-estimator-id-6\" class=\"sk-toggleable__label sk-toggleable__label-arrow\">MultinomialNB</label><div class=\"sk-toggleable__content\"><pre>MultinomialNB()</pre></div></div></div></div></div></div></div>"
            ]
          },
          "metadata": {},
          "execution_count": 64
        }
      ],
      "source": [
        "nbPipeline.fit(x_train, y_train)"
      ]
    },
    {
      "cell_type": "code",
      "execution_count": null,
      "id": "cff758c0",
      "metadata": {
        "id": "cff758c0"
      },
      "outputs": [],
      "source": [
        "predictedNB = nbPipeline.predict(x_test)"
      ]
    },
    {
      "cell_type": "code",
      "execution_count": null,
      "id": "7faea2d7",
      "metadata": {
        "colab": {
          "base_uri": "https://localhost:8080/"
        },
        "id": "7faea2d7",
        "outputId": "0257f384-03a7-4f1b-a125-815284687cb9"
      },
      "outputs": [
        {
          "output_type": "execute_result",
          "data": {
            "text/plain": [
              "array(['FAKE', 'FAKE', 'FAKE', ..., 'REAL', 'FAKE', 'FAKE'], dtype='<U4')"
            ]
          },
          "metadata": {},
          "execution_count": 67
        }
      ],
      "source": [
        "predictedNB\n"
      ]
    },
    {
      "cell_type": "code",
      "execution_count": null,
      "id": "35a08a19",
      "metadata": {
        "colab": {
          "base_uri": "https://localhost:8080/"
        },
        "id": "35a08a19",
        "outputId": "4a49b37d-cb22-47a2-8208-145f702de5aa"
      },
      "outputs": [
        {
          "output_type": "execute_result",
          "data": {
            "text/plain": [
              "array([[ 704,   19],\n",
              "       [ 367, 1001]])"
            ]
          },
          "metadata": {},
          "execution_count": 68
        }
      ],
      "source": [
        "confusion_matrix(predictedNB, y_test)"
      ]
    },
    {
      "cell_type": "code",
      "execution_count": null,
      "id": "419f9221",
      "metadata": {
        "colab": {
          "base_uri": "https://localhost:8080/"
        },
        "id": "419f9221",
        "outputId": "f8832ae5-b6fd-43d7-9f3b-69051e0b4b33"
      },
      "outputs": [
        {
          "output_type": "execute_result",
          "data": {
            "text/plain": [
              "0.8153993304638929"
            ]
          },
          "metadata": {},
          "execution_count": 72
        }
      ],
      "source": [
        "accuracy_score(predictedNB, y_test)"
      ]
    },
    {
      "cell_type": "code",
      "execution_count": null,
      "id": "f0747b8e",
      "metadata": {
        "id": "f0747b8e"
      },
      "outputs": [],
      "source": [
        "nbcPipeline = Pipeline([\n",
        "    ('NBCV', countVectorizer),\n",
        "    ('nb_clf', MultinomialNB())\n",
        "])"
      ]
    },
    {
      "cell_type": "code",
      "execution_count": null,
      "id": "6ff513fd",
      "metadata": {
        "colab": {
          "base_uri": "https://localhost:8080/",
          "height": 124
        },
        "id": "6ff513fd",
        "outputId": "d799bf3b-f206-43d0-f90f-baf2286e88c3"
      },
      "outputs": [
        {
          "output_type": "execute_result",
          "data": {
            "text/plain": [
              "Pipeline(steps=[('NBCV', CountVectorizer(stop_words='english')),\n",
              "                ('nb_clf', MultinomialNB())])"
            ],
            "text/html": [
              "<style>#sk-container-id-3 {color: black;background-color: white;}#sk-container-id-3 pre{padding: 0;}#sk-container-id-3 div.sk-toggleable {background-color: white;}#sk-container-id-3 label.sk-toggleable__label {cursor: pointer;display: block;width: 100%;margin-bottom: 0;padding: 0.3em;box-sizing: border-box;text-align: center;}#sk-container-id-3 label.sk-toggleable__label-arrow:before {content: \"▸\";float: left;margin-right: 0.25em;color: #696969;}#sk-container-id-3 label.sk-toggleable__label-arrow:hover:before {color: black;}#sk-container-id-3 div.sk-estimator:hover label.sk-toggleable__label-arrow:before {color: black;}#sk-container-id-3 div.sk-toggleable__content {max-height: 0;max-width: 0;overflow: hidden;text-align: left;background-color: #f0f8ff;}#sk-container-id-3 div.sk-toggleable__content pre {margin: 0.2em;color: black;border-radius: 0.25em;background-color: #f0f8ff;}#sk-container-id-3 input.sk-toggleable__control:checked~div.sk-toggleable__content {max-height: 200px;max-width: 100%;overflow: auto;}#sk-container-id-3 input.sk-toggleable__control:checked~label.sk-toggleable__label-arrow:before {content: \"▾\";}#sk-container-id-3 div.sk-estimator input.sk-toggleable__control:checked~label.sk-toggleable__label {background-color: #d4ebff;}#sk-container-id-3 div.sk-label input.sk-toggleable__control:checked~label.sk-toggleable__label {background-color: #d4ebff;}#sk-container-id-3 input.sk-hidden--visually {border: 0;clip: rect(1px 1px 1px 1px);clip: rect(1px, 1px, 1px, 1px);height: 1px;margin: -1px;overflow: hidden;padding: 0;position: absolute;width: 1px;}#sk-container-id-3 div.sk-estimator {font-family: monospace;background-color: #f0f8ff;border: 1px dotted black;border-radius: 0.25em;box-sizing: border-box;margin-bottom: 0.5em;}#sk-container-id-3 div.sk-estimator:hover {background-color: #d4ebff;}#sk-container-id-3 div.sk-parallel-item::after {content: \"\";width: 100%;border-bottom: 1px solid gray;flex-grow: 1;}#sk-container-id-3 div.sk-label:hover label.sk-toggleable__label {background-color: #d4ebff;}#sk-container-id-3 div.sk-serial::before {content: \"\";position: absolute;border-left: 1px solid gray;box-sizing: border-box;top: 0;bottom: 0;left: 50%;z-index: 0;}#sk-container-id-3 div.sk-serial {display: flex;flex-direction: column;align-items: center;background-color: white;padding-right: 0.2em;padding-left: 0.2em;position: relative;}#sk-container-id-3 div.sk-item {position: relative;z-index: 1;}#sk-container-id-3 div.sk-parallel {display: flex;align-items: stretch;justify-content: center;background-color: white;position: relative;}#sk-container-id-3 div.sk-item::before, #sk-container-id-3 div.sk-parallel-item::before {content: \"\";position: absolute;border-left: 1px solid gray;box-sizing: border-box;top: 0;bottom: 0;left: 50%;z-index: -1;}#sk-container-id-3 div.sk-parallel-item {display: flex;flex-direction: column;z-index: 1;position: relative;background-color: white;}#sk-container-id-3 div.sk-parallel-item:first-child::after {align-self: flex-end;width: 50%;}#sk-container-id-3 div.sk-parallel-item:last-child::after {align-self: flex-start;width: 50%;}#sk-container-id-3 div.sk-parallel-item:only-child::after {width: 0;}#sk-container-id-3 div.sk-dashed-wrapped {border: 1px dashed gray;margin: 0 0.4em 0.5em 0.4em;box-sizing: border-box;padding-bottom: 0.4em;background-color: white;}#sk-container-id-3 div.sk-label label {font-family: monospace;font-weight: bold;display: inline-block;line-height: 1.2em;}#sk-container-id-3 div.sk-label-container {text-align: center;}#sk-container-id-3 div.sk-container {/* jupyter's `normalize.less` sets `[hidden] { display: none; }` but bootstrap.min.css set `[hidden] { display: none !important; }` so we also need the `!important` here to be able to override the default hidden behavior on the sphinx rendered scikit-learn.org. See: https://github.com/scikit-learn/scikit-learn/issues/21755 */display: inline-block !important;position: relative;}#sk-container-id-3 div.sk-text-repr-fallback {display: none;}</style><div id=\"sk-container-id-3\" class=\"sk-top-container\"><div class=\"sk-text-repr-fallback\"><pre>Pipeline(steps=[(&#x27;NBCV&#x27;, CountVectorizer(stop_words=&#x27;english&#x27;)),\n",
              "                (&#x27;nb_clf&#x27;, MultinomialNB())])</pre><b>In a Jupyter environment, please rerun this cell to show the HTML representation or trust the notebook. <br />On GitHub, the HTML representation is unable to render, please try loading this page with nbviewer.org.</b></div><div class=\"sk-container\" hidden><div class=\"sk-item sk-dashed-wrapped\"><div class=\"sk-label-container\"><div class=\"sk-label sk-toggleable\"><input class=\"sk-toggleable__control sk-hidden--visually\" id=\"sk-estimator-id-7\" type=\"checkbox\" ><label for=\"sk-estimator-id-7\" class=\"sk-toggleable__label sk-toggleable__label-arrow\">Pipeline</label><div class=\"sk-toggleable__content\"><pre>Pipeline(steps=[(&#x27;NBCV&#x27;, CountVectorizer(stop_words=&#x27;english&#x27;)),\n",
              "                (&#x27;nb_clf&#x27;, MultinomialNB())])</pre></div></div></div><div class=\"sk-serial\"><div class=\"sk-item\"><div class=\"sk-estimator sk-toggleable\"><input class=\"sk-toggleable__control sk-hidden--visually\" id=\"sk-estimator-id-8\" type=\"checkbox\" ><label for=\"sk-estimator-id-8\" class=\"sk-toggleable__label sk-toggleable__label-arrow\">CountVectorizer</label><div class=\"sk-toggleable__content\"><pre>CountVectorizer(stop_words=&#x27;english&#x27;)</pre></div></div></div><div class=\"sk-item\"><div class=\"sk-estimator sk-toggleable\"><input class=\"sk-toggleable__control sk-hidden--visually\" id=\"sk-estimator-id-9\" type=\"checkbox\" ><label for=\"sk-estimator-id-9\" class=\"sk-toggleable__label sk-toggleable__label-arrow\">MultinomialNB</label><div class=\"sk-toggleable__content\"><pre>MultinomialNB()</pre></div></div></div></div></div></div></div>"
            ]
          },
          "metadata": {},
          "execution_count": 74
        }
      ],
      "source": [
        "nbcPipeline.fit(x_train, y_train)"
      ]
    },
    {
      "cell_type": "code",
      "execution_count": null,
      "id": "874ed063",
      "metadata": {
        "id": "874ed063"
      },
      "outputs": [],
      "source": [
        "predictedNBC = nbcPipeline.predict(x_test)"
      ]
    },
    {
      "cell_type": "code",
      "execution_count": null,
      "id": "7bc7d57f",
      "metadata": {
        "colab": {
          "base_uri": "https://localhost:8080/"
        },
        "id": "7bc7d57f",
        "outputId": "da235b45-2d57-4748-bf87-0b4208166cb1"
      },
      "outputs": [
        {
          "output_type": "execute_result",
          "data": {
            "text/plain": [
              "array([[913,  75],\n",
              "       [158, 945]])"
            ]
          },
          "metadata": {},
          "execution_count": 76
        }
      ],
      "source": [
        "confusion_matrix(predictedNBC, y_test)"
      ]
    },
    {
      "cell_type": "code",
      "execution_count": null,
      "id": "3f22bfe9",
      "metadata": {
        "colab": {
          "base_uri": "https://localhost:8080/"
        },
        "id": "3f22bfe9",
        "outputId": "923938cb-9dca-4423-f6bd-1e1fa9a27261"
      },
      "outputs": [
        {
          "output_type": "execute_result",
          "data": {
            "text/plain": [
              "0.8885700621712099"
            ]
          },
          "metadata": {},
          "execution_count": 77
        }
      ],
      "source": [
        "accuracy_score(predictedNBC, y_test)"
      ]
    },
    {
      "cell_type": "markdown",
      "id": "24fb47ed",
      "metadata": {
        "id": "24fb47ed"
      },
      "source": [
        "## TF-IDF and Passive Aggressive Classifier"
      ]
    },
    {
      "cell_type": "code",
      "execution_count": null,
      "id": "681c80ff",
      "metadata": {
        "id": "681c80ff"
      },
      "outputs": [],
      "source": [
        "linearCLF = Pipeline(\n",
        "    [('linear', tfIDF),\n",
        "    ('pa_clf', PassiveAggressiveClassifier())]\n",
        ")"
      ]
    },
    {
      "cell_type": "code",
      "execution_count": null,
      "id": "e21a0003",
      "metadata": {
        "collapsed": true,
        "colab": {
          "base_uri": "https://localhost:8080/",
          "height": 124
        },
        "id": "e21a0003",
        "outputId": "910df5eb-b1f7-4a2f-bd2a-3e1e21afc736"
      },
      "outputs": [
        {
          "output_type": "execute_result",
          "data": {
            "text/plain": [
              "Pipeline(steps=[('linear', TfidfVectorizer(max_df=0.7, stop_words='english')),\n",
              "                ('pa_clf', PassiveAggressiveClassifier())])"
            ],
            "text/html": [
              "<style>#sk-container-id-4 {color: black;background-color: white;}#sk-container-id-4 pre{padding: 0;}#sk-container-id-4 div.sk-toggleable {background-color: white;}#sk-container-id-4 label.sk-toggleable__label {cursor: pointer;display: block;width: 100%;margin-bottom: 0;padding: 0.3em;box-sizing: border-box;text-align: center;}#sk-container-id-4 label.sk-toggleable__label-arrow:before {content: \"▸\";float: left;margin-right: 0.25em;color: #696969;}#sk-container-id-4 label.sk-toggleable__label-arrow:hover:before {color: black;}#sk-container-id-4 div.sk-estimator:hover label.sk-toggleable__label-arrow:before {color: black;}#sk-container-id-4 div.sk-toggleable__content {max-height: 0;max-width: 0;overflow: hidden;text-align: left;background-color: #f0f8ff;}#sk-container-id-4 div.sk-toggleable__content pre {margin: 0.2em;color: black;border-radius: 0.25em;background-color: #f0f8ff;}#sk-container-id-4 input.sk-toggleable__control:checked~div.sk-toggleable__content {max-height: 200px;max-width: 100%;overflow: auto;}#sk-container-id-4 input.sk-toggleable__control:checked~label.sk-toggleable__label-arrow:before {content: \"▾\";}#sk-container-id-4 div.sk-estimator input.sk-toggleable__control:checked~label.sk-toggleable__label {background-color: #d4ebff;}#sk-container-id-4 div.sk-label input.sk-toggleable__control:checked~label.sk-toggleable__label {background-color: #d4ebff;}#sk-container-id-4 input.sk-hidden--visually {border: 0;clip: rect(1px 1px 1px 1px);clip: rect(1px, 1px, 1px, 1px);height: 1px;margin: -1px;overflow: hidden;padding: 0;position: absolute;width: 1px;}#sk-container-id-4 div.sk-estimator {font-family: monospace;background-color: #f0f8ff;border: 1px dotted black;border-radius: 0.25em;box-sizing: border-box;margin-bottom: 0.5em;}#sk-container-id-4 div.sk-estimator:hover {background-color: #d4ebff;}#sk-container-id-4 div.sk-parallel-item::after {content: \"\";width: 100%;border-bottom: 1px solid gray;flex-grow: 1;}#sk-container-id-4 div.sk-label:hover label.sk-toggleable__label {background-color: #d4ebff;}#sk-container-id-4 div.sk-serial::before {content: \"\";position: absolute;border-left: 1px solid gray;box-sizing: border-box;top: 0;bottom: 0;left: 50%;z-index: 0;}#sk-container-id-4 div.sk-serial {display: flex;flex-direction: column;align-items: center;background-color: white;padding-right: 0.2em;padding-left: 0.2em;position: relative;}#sk-container-id-4 div.sk-item {position: relative;z-index: 1;}#sk-container-id-4 div.sk-parallel {display: flex;align-items: stretch;justify-content: center;background-color: white;position: relative;}#sk-container-id-4 div.sk-item::before, #sk-container-id-4 div.sk-parallel-item::before {content: \"\";position: absolute;border-left: 1px solid gray;box-sizing: border-box;top: 0;bottom: 0;left: 50%;z-index: -1;}#sk-container-id-4 div.sk-parallel-item {display: flex;flex-direction: column;z-index: 1;position: relative;background-color: white;}#sk-container-id-4 div.sk-parallel-item:first-child::after {align-self: flex-end;width: 50%;}#sk-container-id-4 div.sk-parallel-item:last-child::after {align-self: flex-start;width: 50%;}#sk-container-id-4 div.sk-parallel-item:only-child::after {width: 0;}#sk-container-id-4 div.sk-dashed-wrapped {border: 1px dashed gray;margin: 0 0.4em 0.5em 0.4em;box-sizing: border-box;padding-bottom: 0.4em;background-color: white;}#sk-container-id-4 div.sk-label label {font-family: monospace;font-weight: bold;display: inline-block;line-height: 1.2em;}#sk-container-id-4 div.sk-label-container {text-align: center;}#sk-container-id-4 div.sk-container {/* jupyter's `normalize.less` sets `[hidden] { display: none; }` but bootstrap.min.css set `[hidden] { display: none !important; }` so we also need the `!important` here to be able to override the default hidden behavior on the sphinx rendered scikit-learn.org. See: https://github.com/scikit-learn/scikit-learn/issues/21755 */display: inline-block !important;position: relative;}#sk-container-id-4 div.sk-text-repr-fallback {display: none;}</style><div id=\"sk-container-id-4\" class=\"sk-top-container\"><div class=\"sk-text-repr-fallback\"><pre>Pipeline(steps=[(&#x27;linear&#x27;, TfidfVectorizer(max_df=0.7, stop_words=&#x27;english&#x27;)),\n",
              "                (&#x27;pa_clf&#x27;, PassiveAggressiveClassifier())])</pre><b>In a Jupyter environment, please rerun this cell to show the HTML representation or trust the notebook. <br />On GitHub, the HTML representation is unable to render, please try loading this page with nbviewer.org.</b></div><div class=\"sk-container\" hidden><div class=\"sk-item sk-dashed-wrapped\"><div class=\"sk-label-container\"><div class=\"sk-label sk-toggleable\"><input class=\"sk-toggleable__control sk-hidden--visually\" id=\"sk-estimator-id-10\" type=\"checkbox\" ><label for=\"sk-estimator-id-10\" class=\"sk-toggleable__label sk-toggleable__label-arrow\">Pipeline</label><div class=\"sk-toggleable__content\"><pre>Pipeline(steps=[(&#x27;linear&#x27;, TfidfVectorizer(max_df=0.7, stop_words=&#x27;english&#x27;)),\n",
              "                (&#x27;pa_clf&#x27;, PassiveAggressiveClassifier())])</pre></div></div></div><div class=\"sk-serial\"><div class=\"sk-item\"><div class=\"sk-estimator sk-toggleable\"><input class=\"sk-toggleable__control sk-hidden--visually\" id=\"sk-estimator-id-11\" type=\"checkbox\" ><label for=\"sk-estimator-id-11\" class=\"sk-toggleable__label sk-toggleable__label-arrow\">TfidfVectorizer</label><div class=\"sk-toggleable__content\"><pre>TfidfVectorizer(max_df=0.7, stop_words=&#x27;english&#x27;)</pre></div></div></div><div class=\"sk-item\"><div class=\"sk-estimator sk-toggleable\"><input class=\"sk-toggleable__control sk-hidden--visually\" id=\"sk-estimator-id-12\" type=\"checkbox\" ><label for=\"sk-estimator-id-12\" class=\"sk-toggleable__label sk-toggleable__label-arrow\">PassiveAggressiveClassifier</label><div class=\"sk-toggleable__content\"><pre>PassiveAggressiveClassifier()</pre></div></div></div></div></div></div></div>"
            ]
          },
          "metadata": {},
          "execution_count": 79
        }
      ],
      "source": [
        "linearCLF.fit(x_train, y_train)"
      ]
    },
    {
      "cell_type": "code",
      "execution_count": null,
      "id": "663cf67f",
      "metadata": {
        "id": "663cf67f"
      },
      "outputs": [],
      "source": [
        "pred = linearCLF.predict(x_test)"
      ]
    },
    {
      "cell_type": "code",
      "execution_count": null,
      "id": "e56ff767",
      "metadata": {
        "colab": {
          "base_uri": "https://localhost:8080/"
        },
        "id": "e56ff767",
        "outputId": "db7efa00-c8ca-4300-d2f5-bc4291c6a9e1"
      },
      "outputs": [
        {
          "output_type": "execute_result",
          "data": {
            "text/plain": [
              "array(['FAKE', 'FAKE', 'FAKE', ..., 'REAL', 'FAKE', 'FAKE'], dtype='<U4')"
            ]
          },
          "metadata": {},
          "execution_count": 81
        }
      ],
      "source": [
        "pred"
      ]
    },
    {
      "cell_type": "code",
      "execution_count": null,
      "id": "f0e23e56",
      "metadata": {
        "colab": {
          "base_uri": "https://localhost:8080/"
        },
        "id": "f0e23e56",
        "outputId": "4f63d6ae-3f2d-4f52-eeca-be3c701e7b03"
      },
      "outputs": [
        {
          "output_type": "execute_result",
          "data": {
            "text/plain": [
              "0.9421329507412721"
            ]
          },
          "metadata": {},
          "execution_count": 82
        }
      ],
      "source": [
        "accuracy_score(y_test,pred)"
      ]
    },
    {
      "cell_type": "code",
      "execution_count": null,
      "id": "7d542e41",
      "metadata": {
        "id": "7d542e41"
      },
      "outputs": [],
      "source": [
        "linearCLF = Pipeline(\n",
        "    [('linear', tfIDF),\n",
        "    ('pa_clf', PassiveAggressiveClassifier())]\n",
        ")"
      ]
    },
    {
      "cell_type": "code",
      "execution_count": null,
      "id": "b9f5df74",
      "metadata": {
        "id": "b9f5df74"
      },
      "outputs": [],
      "source": [
        "file = open(r'/content/final_model.pkl','wb')"
      ]
    },
    {
      "cell_type": "code",
      "execution_count": null,
      "id": "0c7bbe50",
      "metadata": {
        "id": "0c7bbe50"
      },
      "outputs": [],
      "source": [
        "pickle.dump(linearCLF, file)"
      ]
    },
    {
      "cell_type": "code",
      "source": [],
      "metadata": {
        "id": "qg8XxlzKr-z3"
      },
      "id": "qg8XxlzKr-z3",
      "execution_count": null,
      "outputs": []
    }
  ],
  "metadata": {
    "kernelspec": {
      "display_name": "Python 3 (ipykernel)",
      "language": "python",
      "name": "python3"
    },
    "language_info": {
      "codemirror_mode": {
        "name": "ipython",
        "version": 3
      },
      "file_extension": ".py",
      "mimetype": "text/x-python",
      "name": "python",
      "nbconvert_exporter": "python",
      "pygments_lexer": "ipython3",
      "version": "3.9.13"
    },
    "colab": {
      "provenance": [],
      "toc_visible": true,
      "include_colab_link": true
    }
  },
  "nbformat": 4,
  "nbformat_minor": 5
}